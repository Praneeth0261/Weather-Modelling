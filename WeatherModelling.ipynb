{
  "nbformat": 4,
  "nbformat_minor": 0,
  "metadata": {
    "colab": {
      "provenance": [],
      "authorship_tag": "ABX9TyPQljFLRS7ViLKnbVtjqWsK",
      "include_colab_link": true
    },
    "kernelspec": {
      "name": "python3",
      "display_name": "Python 3"
    },
    "language_info": {
      "name": "python"
    }
  },
  "cells": [
    {
      "cell_type": "markdown",
      "metadata": {
        "id": "view-in-github",
        "colab_type": "text"
      },
      "source": [
        "<a href=\"https://colab.research.google.com/github/Praneeth0261/Weather-Modelling/blob/main/WeatherModelling.ipynb\" target=\"_parent\"><img src=\"https://colab.research.google.com/assets/colab-badge.svg\" alt=\"Open In Colab\"/></a>"
      ]
    },
    {
      "cell_type": "markdown",
      "source": [
        "**Implementing using HardCoded variables:**"
      ],
      "metadata": {
        "id": "VjDLKPmPWaXq"
      }
    },
    {
      "cell_type": "code",
      "execution_count": 2,
      "metadata": {
        "colab": {
          "base_uri": "https://localhost:8080/"
        },
        "id": "gXGGP08yTVOt",
        "outputId": "cfe26997-4585-48e1-878d-0c4317c76b81"
      },
      "outputs": [
        {
          "output_type": "stream",
          "name": "stdout",
          "text": [
            "The hardcoded variables for weather modelling are:\n",
            "Temp for hardcoded variables at time 4 hours 19.6\n"
          ]
        }
      ],
      "source": [
        "def WeatherM(k,l,m,time):\n",
        "  temp=k*time**2+l*time+m\n",
        "  return temp\n",
        "k=0.1\n",
        "l=2\n",
        "m=10\n",
        "time=4\n",
        "print(\"The hardcoded variables for weather modelling are:\")\n",
        "print(\"Temp for hardcoded variables at time\",time,\"hours\",WeatherM(k,l,m,time))"
      ]
    },
    {
      "cell_type": "markdown",
      "source": [
        "**Implementing using Keyboard Input:**"
      ],
      "metadata": {
        "id": "07ZD2AX3Wnep"
      }
    },
    {
      "cell_type": "code",
      "source": [
        "def WeatherM(k,l,m,time):\n",
        "  temp=k*time**2+l*time+m\n",
        "  return temp\n",
        "k=input(\"Enter the value of k:\")\n",
        "k=float(k)\n",
        "l=input(\"Enter the value of l:\")\n",
        "l=float(l)\n",
        "m=input(\"Enter the value of m:\")\n",
        "m=float(m)\n",
        "time=input(\"Enter the value of time:\")\n",
        "time=float(time)\n",
        "print(\"Temp at time\",time,\"hours\",WeatherM(k,l,m,time))"
      ],
      "metadata": {
        "colab": {
          "base_uri": "https://localhost:8080/"
        },
        "id": "6EHnIz_lVEv0",
        "outputId": "60b701f3-0367-4789-b64c-a55b883853ce"
      },
      "execution_count": 6,
      "outputs": [
        {
          "output_type": "stream",
          "name": "stdout",
          "text": [
            "Enter the value of k:2\n",
            "Enter the value of l:4\n",
            "Enter the value of m:5\n",
            "Enter the value of time:3\n",
            "Temp at time 3.0 hours 35.0\n"
          ]
        }
      ]
    },
    {
      "cell_type": "markdown",
      "source": [
        "**Implementing using Single input file:**"
      ],
      "metadata": {
        "id": "6G8RuAcIZ6O4"
      }
    },
    {
      "cell_type": "code",
      "source": [
        "def WeatherM(k, l, m, time):\n",
        "    temp = k * time**2 + l * time + m\n",
        "    return temp\n",
        "\n",
        "with open('inputfile.txt', 'r') as file:\n",
        "    k = float(file.readline())\n",
        "    l = float(file.readline())\n",
        "    m = float(file.readline())\n",
        "    time = float(file.readline())\n",
        "\n",
        "print(\"Temperature for single set of input at time:\", time, \"hours is:\", WeatherM(k, l, m, time))"
      ],
      "metadata": {
        "colab": {
          "base_uri": "https://localhost:8080/"
        },
        "id": "1YwobsEGXaB5",
        "outputId": "9d4b6b8b-6f83-45e5-9754-22759796b8fc"
      },
      "execution_count": 8,
      "outputs": [
        {
          "output_type": "stream",
          "name": "stdout",
          "text": [
            "Temperature for single set of input at time: 4.0 hours is: 27.0\n"
          ]
        }
      ]
    },
    {
      "cell_type": "markdown",
      "source": [
        "**Implementing using Multiple inputs in a file:**"
      ],
      "metadata": {
        "id": "nNv5SmK-aAhe"
      }
    },
    {
      "cell_type": "code",
      "source": [
        "def WeatherM(k, l, m, time):\n",
        "    temp = k * time**2 + l * time + m\n",
        "    return temp\n",
        "with open('inputfile2.txt', 'r') as file:\n",
        "  lines = file.readlines()\n",
        "  for line in lines:\n",
        "        k, l, m, time = map(float, line.split())\n",
        "        print(f\"Temp for inputs k={k}, l={l}, m={m} at time {time} hours is: {WeatherM(k, l, m, time)}\")"
      ],
      "metadata": {
        "colab": {
          "base_uri": "https://localhost:8080/"
        },
        "id": "xa3IT4sHXdwy",
        "outputId": "c62142bf-93da-4925-ec98-2c7d5073bb91"
      },
      "execution_count": 12,
      "outputs": [
        {
          "output_type": "stream",
          "name": "stdout",
          "text": [
            "Temp for inputs k=1.0, l=2.0, m=3.0 at time 4.0 hours is: 27.0\n",
            "Temp for inputs k=2.0, l=3.0, m=4.0 at time 5.0 hours is: 69.0\n",
            "Temp for inputs k=3.0, l=4.0, m=5.0 at time 6.0 hours is: 137.0\n"
          ]
        }
      ]
    }
  ]
}